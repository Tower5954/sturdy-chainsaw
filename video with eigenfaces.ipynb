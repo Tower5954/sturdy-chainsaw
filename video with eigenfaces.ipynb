{
 "cells": [
  {
   "cell_type": "code",
   "execution_count": null,
   "metadata": {},
   "outputs": [],
   "source": [
    "import os\n",
    "import cv2\n",
    "import numpy\n",
    "\n",
    "def read_images(path, image_size):\n",
    "    names = []\n",
    "    training_images, training_labels = [], []\n",
    "    label = 0\n",
    "    for dirname, subdirnames, filenames in os.walk(path):\n",
    "        for subdirname in subdirnames:\n",
    "            names.append(subdirname)\n",
    "            subject_path = os.path.join(dirname, subdirname)\n",
    "            for filename in os.listdir(subject_path):\n",
    "                img = cv2.imread(os.path.join(subject_path, filename), cv2.IMREAD_GRAYSCALE)\n",
    "                if img is None:\n",
    "                    #the file cannot be loaded as an image\n",
    "                    #skip it\n",
    "                    continue\n",
    "                img = cv2.resize(img, image_size)\n",
    "                training_images.append(img)\n",
    "                training_labels.append(label)\n",
    "            label += 1\n",
    "    training_images = numpy.asarray(training_images, numpy.uint8)\n",
    "    training_labels = numpy.asarray(training_labels, numpy.int32)\n",
    "    return names, training_images, training_labels\n",
    "\n",
    "path_to_training_images = 'gdatabase'\n",
    "training_image_size = (200, 200)\n",
    "names, training_images, training_labels = read_images(path_to_training_images, training_image_size)\n",
    "\n",
    "\n",
    "model = cv2.face.EigenFaceRecognizer_create()\n",
    "model.train(training_images, training_labels)\n",
    "\n",
    "face_cascade = cv2.CascadeClassifier(cv2.data.haarcascades + 'haarcascade_frontalface_default.xml')\n",
    "\n",
    "camera = cv2.VideoCapture(0)\n",
    "while (cv2.waitKey(1) == -1):\n",
    "    success, frame = camera.read()\n",
    "    if success:\n",
    "        faces = face_cascade.detectMultiScale(frame, 1.1, 5)\n",
    "        for (x,y,w,h) in faces:\n",
    "            cv2.rectangle(frame, (x, y), (x+w, y+h), (255, 0, 0), 2)\n",
    "            gray = cv2.cvtColor(frame, cv2.COLOR_BGR2GRAY)\n",
    "            roi_gray = gray[x:x+w, y:y+h]\n",
    "            if roi_gray.size == 0:\n",
    "                #the ROI is empty. maybe the face is at the image edge\n",
    "                # skip it\n",
    "                continue\n",
    "            roi_gray = cv2.resize(roi_gray, training_image_size)\n",
    "            label, confidence = model.predict(roi_gray)\n",
    "            text = '%s, confidence=%.2f' % (names[label], confidence)\n",
    "            cv2.putText(frame, text, (x, y - 20), cv2.FONT_HERSHEY_SIMPLEX, 1, (255, 0, 0), 2)\n",
    "            \n",
    "        cv2.namedWindow(\"myImage\", cv2.WINDOW_NORMAL) \n",
    "        \n",
    "        cv2.imshow('Face Recognition', frame)\n",
    "        "
   ]
  },
  {
   "cell_type": "code",
   "execution_count": null,
   "metadata": {},
   "outputs": [],
   "source": []
  }
 ],
 "metadata": {
  "kernelspec": {
   "display_name": "Python 3",
   "language": "python",
   "name": "python3"
  },
  "language_info": {
   "codemirror_mode": {
    "name": "ipython",
    "version": 3
   },
   "file_extension": ".py",
   "mimetype": "text/x-python",
   "name": "python",
   "nbconvert_exporter": "python",
   "pygments_lexer": "ipython3",
   "version": "3.7.6"
  }
 },
 "nbformat": 4,
 "nbformat_minor": 4
}
